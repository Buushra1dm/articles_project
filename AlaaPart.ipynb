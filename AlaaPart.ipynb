{
  "cells": [
    {
      "cell_type": "markdown",
      "metadata": {
        "id": "zju-Gyl37CxU"
      },
      "source": [
        "# Deployment"
      ]
    },
    {
      "cell_type": "code",
      "source": [
        "import os\n",
        "import pandas as pd\n",
        "import nltk\n",
        "from nltk.corpus import stopwords\n",
        "from nltk.tokenize import word_tokenize\n",
        "import re\n",
        "from sklearn.preprocessing import LabelEncoder\n",
        "from sklearn.model_selection import train_test_split\n",
        "from sklearn.pipeline import Pipeline\n",
        "from sklearn.feature_extraction.text import TfidfVectorizer\n",
        "from sklearn.linear_model import LogisticRegression\n",
        "from sklearn.metrics import classification_report"
      ],
      "metadata": {
        "id": "nMYEcGt8ES3N"
      },
      "execution_count": null,
      "outputs": []
    },
    {
      "cell_type": "code",
      "source": [
        "import nltk\n",
        "\n",
        "nltk.download('stopwords')\n",
        "nltk.download('punkt')\n",
        "\n",
        "StopWords = set(stopwords.words('arabic'))"
      ],
      "metadata": {
        "colab": {
          "base_uri": "https://localhost:8080/"
        },
        "id": "qqJFuGB_G8Kv",
        "outputId": "521f21be-8e2a-4998-a1ce-fe3cd841aeb0"
      },
      "execution_count": null,
      "outputs": [
        {
          "output_type": "stream",
          "name": "stderr",
          "text": [
            "[nltk_data] Downloading package stopwords to /root/nltk_data...\n",
            "[nltk_data]   Unzipping corpora/stopwords.zip.\n",
            "[nltk_data] Downloading package punkt to /root/nltk_data...\n",
            "[nltk_data]   Unzipping tokenizers/punkt.zip.\n"
          ]
        }
      ]
    },
    {
      "cell_type": "code",
      "source": [
        "import joblib\n",
        "\n",
        "\n",
        "# Load the pipeline\n",
        "pipeLine = joblib.load('model_pipeline.joblib')\n",
        "\n"
      ],
      "metadata": {
        "id": "F7_wKxyFD6J_"
      },
      "execution_count": null,
      "outputs": []
    },
    {
      "cell_type": "code",
      "source": [
        "class TextPreprocessor:\n",
        "    def __init__(self):\n",
        "        self.StopWords = set(stopwords.words('arabic'))\n",
        "        self.ArabicDiacritics = re.compile(r\"\"\"\n",
        "                                 ّ    | # Tashdid\n",
        "                                 َ    | # Fatha\n",
        "                                 ً    | # Tanwin Fath\n",
        "                                 ُ    | # Damma\n",
        "                                 ٌ    | # Tanwin Damm\n",
        "                                 ِ    | # Kasra\n",
        "                                 ٍ    | # Tanwin Kasr\n",
        "                                 ْ    | # Sukun\n",
        "                                 ـ     # Tatwil/Kashida\n",
        "                             \"\"\", re.VERBOSE)\n",
        "        self.RegrexPattern = re.compile(\n",
        "            r\"[\\U0001F600-\\U0001F64F\" +  # emoticons {😀 , 😆}\n",
        "            r\"\\U0001F300-\\U0001F5FF\" +  # symbols & pictographs {🌍 , 🌞}\n",
        "            r\"\\U0001F680-\\U0001F6FF\" +  # transport & map symbols {🚌 , 🚕 }\n",
        "            r\"\\U0001F1E0-\\U0001F1FF]\",   # flags (iOS) { 🇺🇸 , 🇨🇦 }\n",
        "            re.UNICODE\n",
        "        )\n",
        "\n",
        "\n",
        "    def preprocess_text(self, text):\n",
        "        # Remove special characters {& $ @} and punctuation {. , ? !}\n",
        "        text = re.sub(r'[^\\w\\s]', '', text)\n",
        "\n",
        "        # Remove emoji characters\n",
        "        text = re.sub(self.RegrexPattern, '', text)\n",
        "\n",
        "        # Remove Arabic diacritics\n",
        "        text = re.sub(self.ArabicDiacritics, '', text)\n",
        "        tokens = word_tokenize(text)\n",
        "        tokens = [word for word in tokens if word not in self.StopWords]\n",
        "        return ' '.join(tokens)"
      ],
      "metadata": {
        "id": "yMWguDnYO8qw"
      },
      "execution_count": null,
      "outputs": []
    },
    {
      "cell_type": "code",
      "source": [
        "# Initialize the TextPreprocessor class\n",
        "preprocessor = TextPreprocessor()"
      ],
      "metadata": {
        "id": "Gkx4ubENO8nV"
      },
      "execution_count": null,
      "outputs": []
    },
    {
      "cell_type": "code",
      "execution_count": null,
      "metadata": {
        "id": "KOiiJg3v7CVw"
      },
      "outputs": [],
      "source": [
        "def classifyArticle(ArticleText, PipeLine):\n",
        "    # Preprocess the texts\n",
        "    preprocessedText = preprocessor.preprocess_text(ArticleText)\n",
        "\n",
        "    PredictedCategory = PipeLine.predict([preprocessedText])[0]\n",
        "\n",
        "    return PredictedCategory"
      ]
    },
    {
      "cell_type": "code",
      "source": [
        "category_mapping = {\n",
        "    0: 'Culture',\n",
        "    1: 'Finance',\n",
        "    2: 'Medical',\n",
        "    3: 'Politics',\n",
        "    4: 'Religion',\n",
        "    5: 'Sports',\n",
        "    6: 'Tech'\n",
        "\n",
        "}"
      ],
      "metadata": {
        "id": "yGqcEC-4REys"
      },
      "execution_count": null,
      "outputs": []
    },
    {
      "cell_type": "markdown",
      "metadata": {
        "id": "6ecfdCL15Jrc"
      },
      "source": [
        "# Test"
      ]
    },
    {
      "cell_type": "code",
      "source": [
        "import pandas as pd\n",
        "\n",
        "# Read the CSV file into a DataFrame\n",
        "df = pd.read_csv('/content/arabic_categorization_data.csv')\n",
        "\n",
        "# Display the DataFrame\n",
        "print(df)\n",
        "df['type'].unique()\n",
        "\n",
        "\n",
        "# Sample 3 rows\n",
        "sampled_df = df.sample(n=5, random_state=1)\n",
        "\n",
        "# Sample 3 rows\n",
        "sampled_df2 = df.sample(n=5, random_state=10)"
      ],
      "metadata": {
        "colab": {
          "base_uri": "https://localhost:8080/"
        },
        "id": "_dz4AlH_Syzx",
        "outputId": "c570a90e-d0a8-4740-9e5f-b6b5fa068f05"
      },
      "execution_count": null,
      "outputs": [
        {
          "output_type": "stream",
          "name": "stdout",
          "text": [
            "       Unnamed: 0                                               text  \\\n",
            "0               0  \\nأشرف رئيس الجمهورية الباجي قايد السبسي اليوم...   \n",
            "1               1  \\nتحصل كتاب \"المصحف وقراءاته\" الذي ألفه باحثون...   \n",
            "2               2  \\nاستنكرت إدارة المسرح الوطني التونسي الحملة ا...   \n",
            "3               3  \\nاحتضن جناح تونس في القرية الدولية للأفلام بم...   \n",
            "4               4  \\nشهدت برلين أمس الجمعة افتتاح مسجد فريد من نو...   \n",
            "...           ...                                                ...   \n",
            "10361        4814  \\nأكد المكلف بالإعلام والاتصال بالإدارة العامة...   \n",
            "10362        4815  \\nتمكّنت فرقة الأبحاث والتفتيش للحرس الوطني بط...   \n",
            "10363        4816  \\nقرر الأهالي بمناطق هيشر وعين القارصي والغولا...   \n",
            "10364        4817  \\nتمكنت وحدات الحرس الوطني بمحطة الإستخلاص ببر...   \n",
            "10365        4818  \\nأصيب مساء اليوم الأربعاء، عسكري بطلق ناري عل...   \n",
            "\n",
            "            type  \n",
            "0        culture  \n",
            "1        culture  \n",
            "2        culture  \n",
            "3        culture  \n",
            "4        culture  \n",
            "...          ...  \n",
            "10361  localnews  \n",
            "10362  localnews  \n",
            "10363  localnews  \n",
            "10364  localnews  \n",
            "10365  localnews  \n",
            "\n",
            "[10366 rows x 3 columns]\n"
          ]
        }
      ]
    },
    {
      "cell_type": "code",
      "source": [
        "df['type'].unique()"
      ],
      "metadata": {
        "colab": {
          "base_uri": "https://localhost:8080/"
        },
        "id": "E4o_7bLde0EA",
        "outputId": "aab2cfdf-cd16-4521-f911-8986a2b40598"
      },
      "execution_count": null,
      "outputs": [
        {
          "output_type": "execute_result",
          "data": {
            "text/plain": [
              "array(['culture', 'diverse', 'economy', 'internationalNews', 'politic',\n",
              "       'sport', 'technology', 'society', 'localnews'], dtype=object)"
            ]
          },
          "metadata": {},
          "execution_count": 5
        }
      ]
    },
    {
      "cell_type": "code",
      "source": [
        "\n",
        "# Apply classification and map categories\n",
        "for index, row in sampled_df.iterrows():\n",
        "    article = row['text']\n",
        "    PredictedCategory = classifyArticle(article, pipeLine)\n",
        "    category_name = category_mapping.get(PredictedCategory, \"Unknown Category\")\n",
        "    print(f\"Article: {article}\")\n",
        "    print(\"Predicted category:\", category_name)\n",
        "    print()"
      ],
      "metadata": {
        "colab": {
          "base_uri": "https://localhost:8080/"
        },
        "id": "0inha7MjVlrY",
        "outputId": "5f786027-ef42-4470-fd0b-f5cd56f51b32"
      },
      "execution_count": null,
      "outputs": [
        {
          "output_type": "stream",
          "name": "stdout",
          "text": [
            "Article: \n",
            "نفّذ اليوم عدد من أهالي القصرين وقفة احتجاجية في ساحة الشهداء وسط  مدينة القصرين وذلك تحت شعار \"نحب نخدم.. نحب نداوي في القصرين\".\n",
            "ويطالب المحتجون بحقهم في التنمية والتشغيل و تسوية وضعيات عمال الحضائر و تحسين أوضاعهم الاجتماعية، وفق ما أكده مراسل \"الجوهرة أف أم\".\n",
            "\n",
            "Predicted category: Politics\n",
            "\n",
            "Article: \n",
            "يواجه النادي الإفريقي في الدور السادس عشر من مسابقة كأس الكنفيديرالية الإفريقية لكرة القدم فريق القوات المسلحة السيراليونية.\n",
            "و كان نادي القوات المسلحة قد فازت في الذهاب على ويكي توريستس النيجيري بهدفين لصفر و إنهزم في الإياب بهدف مقابل صفر . و تجرى مقابلة الذهاب في تونس في الفترة بين 10 و 12 مارس في حين تدور مقابلة إياب بعد أسبوع في سيراليون . يشار أن النادي الصفاقسي سيواجه خلال نفس الدور فريق يانغ سبورت الكاميروني . \n",
            "\n",
            "Predicted category: Sports\n",
            "\n",
            "Article: \n",
            "وصف الإعلامي زياد الهاني تصريحات القيادي بحزب نداء تونس، لزهر الكرمي والتي اتهمه فيها بأنه يعمل على تنفيذ أجندا خاصة بنبيل القروي وشق من نداء تونس، بالكلام المخجل وغير المسؤول.\n",
            "وأضاف الهاني في مداخلة له اليوم في برنامج \"بوليتيكا\" أنه لا يعمل لصالح أي طرف مهما كان موقعه وأنه صحفي يحترم مبادئ مهنته، قائلا \" لا نخدم عند نبيل القروي ولا غيرو\".\n",
            "كما أكد أيضا أن حضوره في \"بلاتوهات\" قناة نسمة أو غيرها من القنوات الأخرى كان في مناسبات محددة وللحديث عن مواضيع محدّدة ودون أي مقابل ، وفق تعبيره. \n",
            " \n",
            "\n",
            "Predicted category: Politics\n",
            "\n",
            "Article: \n",
            "أقدمت صباح اليوم الأحد، فتاة تبلغ من العمر نحو 33 سنة على محاولة نشل حقيبة يد إحدى المتسوقات في السوق الأسبوعية بالنفيضة، من ولاية سوسة، أمام مرأى الجميع.\n",
            "ومع تمسك الضحية بحقيبتها، استعانت \"النشالة\" بشفرة حلاقة واعتدت عليها على مستوى الوجه، قبل أن يتدخل أعوان الأمن بمساعدة عدد من المواطنين لإيقافها. وتم نقل المتضررة إلى مستشفى النفيضة حيث خضعت للعلاج من إصابة على مستوى الجبين، فيما أحيلت \"النشالة\" وهي أصيلة إحدى أحواز النفيضة، إلى مركز الأمن الوطني بالجهة للتحقيق معها إلى حين عرضها على العدالة بحسب ما أفادنا مصدر أمني.\n",
            "\n",
            "Predicted category: Politics\n",
            "\n",
            "Article: \n",
            "تبعا لما تم تداول في بعض وسائل الإعلام حول فقدان معتمرة بالمسجد الحرام، أوضحت وزارة الشؤون الدينيّة أنّ المواطنة زينة بنت محمد بن خليفة الشلغومي لم تتمكّن من العودة إلى تونس في رحلة يوم أمس كما كان مبرمجا نظرا لتوعّك صحي مفاجئ ألمّ بها قبل صعود الطّائرة.\n",
            "و أكدت الوزارة في بلاغ لها أنّ المعنيّة بالأمر مقيمة بمستشفى الملك عبد الله بجدّة وتتلقّى العناية الكافية.  وأضافت أنها تتابع عن كثب وبصفة مستمرّة الحالة الصحيّة للمعتمرة زينة الشلغومي وذلك بالتّنسيق مع وزارة الشؤون الخارجيّة والبعثة الديبلوماسيّة بالمملكة العربيّة السّعوديّة.\n",
            "\n",
            "Predicted category: Politics\n",
            "\n"
          ]
        }
      ]
    },
    {
      "cell_type": "code",
      "execution_count": null,
      "metadata": {
        "id": "vO6_NQu04ybO",
        "colab": {
          "base_uri": "https://localhost:8080/"
        },
        "outputId": "2cae3952-ce95-4eb2-9dd6-87eacb7038cd"
      },
      "outputs": [
        {
          "output_type": "stream",
          "name": "stdout",
          "text": [
            "Predicted category: Sports\n"
          ]
        }
      ],
      "source": [
        "\n",
        "\n",
        "#PredictedCategory = classifyArticle(article, pipeLine)\n",
        "\n",
        "#PredictedCategory = category_mapping.get(PredictedCategory, \"Unknown Category\")\n",
        "\n",
        "#print(\"Predicted category:\", PredictedCategory)\n"
      ]
    }
  ],
  "metadata": {
    "colab": {
      "provenance": []
    },
    "kernelspec": {
      "display_name": "Python 3",
      "name": "python3"
    },
    "language_info": {
      "name": "python"
    }
  },
  "nbformat": 4,
  "nbformat_minor": 0
}